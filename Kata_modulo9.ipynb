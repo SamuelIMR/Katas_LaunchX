{
 "cells": [
  {
   "cell_type": "markdown",
   "metadata": {},
   "source": [
    "Ejericio 1- Trabajar con argumentos en funciones"
   ]
  },
  {
   "cell_type": "code",
   "execution_count": 1,
   "metadata": {},
   "outputs": [],
   "source": [
    "def promedio(tanque1,tanque2,tanque3):\n",
    "    promf=(tanque1+tanque2+tanque3)/3\n",
    "    return f\"\"\"El promedio es: {promf}\n",
    "    El tanque 1: {tanque1}%\n",
    "    El tanque 2: {tanque2}%\n",
    "    El tanque 3: {tanque3}%\n",
    "    \"\"\"\n"
   ]
  },
  {
   "cell_type": "code",
   "execution_count": 2,
   "metadata": {},
   "outputs": [
    {
     "name": "stdout",
     "output_type": "stream",
     "text": [
      "El promedio es: 45.0\n",
      "    El tanque 1: 50%\n",
      "    El tanque 2: 65%\n",
      "    El tanque 3: 20%\n",
      "    \n"
     ]
    }
   ],
   "source": [
    "print(promedio(50,65,20))"
   ]
  },
  {
   "cell_type": "code",
   "execution_count": 3,
   "metadata": {},
   "outputs": [
    {
     "data": {
      "text/plain": [
       "89.33333333333333"
      ]
     },
     "execution_count": 3,
     "metadata": {},
     "output_type": "execute_result"
    }
   ],
   "source": [
    "def prom(values):\n",
    "    total=sum(values)\n",
    "    cantidad=len(values)\n",
    "    return total/cantidad\n",
    "\n",
    "prom([100,98,70])"
   ]
  },
  {
   "cell_type": "code",
   "execution_count": 4,
   "metadata": {},
   "outputs": [
    {
     "name": "stdout",
     "output_type": "stream",
     "text": [
      "El promedio es: 81.0\n",
      "    El tanque 1: 100%\n",
      "    El tanque 2: 98%\n",
      "    El tanque 3: 45%\n",
      "    \n"
     ]
    }
   ],
   "source": [
    "def promedio(tanque1,tanque2,tanque3):\n",
    "    return f\"\"\"El promedio es: {prom([tanque1, tanque2,tanque3])}\n",
    "    El tanque 1: {tanque1}%\n",
    "    El tanque 2: {tanque2}%\n",
    "    El tanque 3: {tanque3}%\n",
    "    \"\"\"\n",
    "\n",
    "print(promedio(100,98,45))"
   ]
  },
  {
   "cell_type": "markdown",
   "metadata": {},
   "source": [
    "Ejercicio 2- Trabajo con argumentos de palabras clave"
   ]
  },
  {
   "cell_type": "code",
   "execution_count": 5,
   "metadata": {},
   "outputs": [
    {
     "data": {
      "text/plain": [
       "'Hora de pelanzamiento: 10:30\\n    Tiempo de vuelo: 4\\n    Lugar de destino: Marte\\n    Tanque externo: 150\\n    Tanque interno: 76\\n    '"
      ]
     },
     "execution_count": 5,
     "metadata": {},
     "output_type": "execute_result"
    }
   ],
   "source": [
    "def informe(hora,tiempo,destino,tanque_ex,tanque_int):\n",
    "    return f\"\"\"Hora de pelanzamiento: {hora}\n",
    "    Tiempo de vuelo: {tiempo}\n",
    "    Lugar de destino: {destino}\n",
    "    Tanque externo: {tanque_ex}\n",
    "    Tanque interno: {tanque_int}\n",
    "    \"\"\"\n",
    "informe('10:30',4,'Marte',150,76)"
   ]
  },
  {
   "cell_type": "code",
   "execution_count": 6,
   "metadata": {},
   "outputs": [
    {
     "name": "stdout",
     "output_type": "stream",
     "text": [
      "\n",
      "    Tiempo de vuelo: 191 minutos\n",
      "    Lugar de destino: Marte\n",
      "    Combustible restante: 800\n",
      "    \n"
     ]
    }
   ],
   "source": [
    "def informe(destino,*minutos,**reservas_tanque):\n",
    "    return f\"\"\"\n",
    "    Tiempo de vuelo: {sum(minutos)} minutos\n",
    "    Lugar de destino: {destino}\n",
    "    Combustible restante: {sum(reservas_tanque.values())}\n",
    "    \"\"\"\n",
    "print(informe('Marte',134,23,34,izquierdo=200,derecho=600))"
   ]
  }
 ],
 "metadata": {
  "interpreter": {
   "hash": "8d9a29145680113d4a45bb7f2cb3e4e98a988232d3af65d3cd1370207d4ae234"
  },
  "kernelspec": {
   "display_name": "Python 3.10.1 64-bit",
   "language": "python",
   "name": "python3"
  },
  "language_info": {
   "codemirror_mode": {
    "name": "ipython",
    "version": 3
   },
   "file_extension": ".py",
   "mimetype": "text/x-python",
   "name": "python",
   "nbconvert_exporter": "python",
   "pygments_lexer": "ipython3",
   "version": "3.10.1"
  },
  "orig_nbformat": 4
 },
 "nbformat": 4,
 "nbformat_minor": 2
}
