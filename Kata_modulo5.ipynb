{
 "cells": [
  {
   "cell_type": "markdown",
   "metadata": {},
   "source": [
    "Ejercicio 1-Utilizar operadores aritméticos"
   ]
  },
  {
   "cell_type": "code",
   "execution_count": 1,
   "metadata": {},
   "outputs": [
    {
     "name": "stdout",
     "output_type": "stream",
     "text": [
      "La dstancia fue: 628949330\n",
      "La distancia en millas es: 390577533.93\n"
     ]
    }
   ],
   "source": [
    "earth=149597870\n",
    "jupiter=778547200\n",
    "distance=jupiter-earth\n",
    "print(f\"La dstancia fue: {distance}\")\n",
    "distance_miles=distance*0.621\n",
    "print(f\"La distancia en millas es: {distance_miles}\")"
   ]
  },
  {
   "cell_type": "markdown",
   "metadata": {},
   "source": [
    "Ejercicio 2-Convierte cadenas en números y valores absolutos"
   ]
  },
  {
   "cell_type": "code",
   "execution_count": 2,
   "metadata": {},
   "outputs": [
    {
     "ename": "ValueError",
     "evalue": "invalid literal for int() with base 10: ''",
     "output_type": "error",
     "traceback": [
      "\u001b[1;31m---------------------------------------------------------------------------\u001b[0m",
      "\u001b[1;31mValueError\u001b[0m                                Traceback (most recent call last)",
      "\u001b[1;32mc:\\Users\\samme\\OneDrive\\Escritorio\\Launchx\\Kata_modulo5.ipynb Cell 4'\u001b[0m in \u001b[0;36m<module>\u001b[1;34m\u001b[0m\n\u001b[0;32m      <a href='vscode-notebook-cell:/c%3A/Users/samme/OneDrive/Escritorio/Launchx/Kata_modulo5.ipynb#ch0000004?line=0'>1</a>\u001b[0m first_planet\u001b[39m=\u001b[39m(\u001b[39minput\u001b[39m(\u001b[39m\"\u001b[39m\u001b[39mWrite a distance: \u001b[39m\u001b[39m\"\u001b[39m))\n\u001b[0;32m      <a href='vscode-notebook-cell:/c%3A/Users/samme/OneDrive/Escritorio/Launchx/Kata_modulo5.ipynb#ch0000004?line=1'>2</a>\u001b[0m second_planet\u001b[39m=\u001b[39m(\u001b[39minput\u001b[39m(\u001b[39m\"\u001b[39m\u001b[39mWrite a distance: \u001b[39m\u001b[39m\"\u001b[39m))\n\u001b[1;32m----> <a href='vscode-notebook-cell:/c%3A/Users/samme/OneDrive/Escritorio/Launchx/Kata_modulo5.ipynb#ch0000004?line=2'>3</a>\u001b[0m first_planet\u001b[39m=\u001b[39m\u001b[39mint\u001b[39;49m(first_planet)\n\u001b[0;32m      <a href='vscode-notebook-cell:/c%3A/Users/samme/OneDrive/Escritorio/Launchx/Kata_modulo5.ipynb#ch0000004?line=3'>4</a>\u001b[0m second_planet\u001b[39m=\u001b[39m\u001b[39mint\u001b[39m(second_planet)\n\u001b[0;32m      <a href='vscode-notebook-cell:/c%3A/Users/samme/OneDrive/Escritorio/Launchx/Kata_modulo5.ipynb#ch0000004?line=4'>5</a>\u001b[0m distance\u001b[39m=\u001b[39m\u001b[39mabs\u001b[39m(first_planet\u001b[39m-\u001b[39msecond_planet)\n",
      "\u001b[1;31mValueError\u001b[0m: invalid literal for int() with base 10: ''"
     ]
    }
   ],
   "source": [
    "first_planet=(input(\"Write a distance: \"))\n",
    "second_planet=(input(\"Write a distance: \"))\n",
    "first_planet=int(first_planet)\n",
    "second_planet=int(second_planet)\n",
    "distance=abs(first_planet-second_planet)\n",
    "print(f'La distancia fue:  {distance}')\n",
    "distance_miles=distance*0.621\n",
    "print(f'La distancia en millas es:  {distance_miles}')\n"
   ]
  }
 ],
 "metadata": {
  "interpreter": {
   "hash": "8d9a29145680113d4a45bb7f2cb3e4e98a988232d3af65d3cd1370207d4ae234"
  },
  "kernelspec": {
   "display_name": "Python 3.10.1 64-bit",
   "language": "python",
   "name": "python3"
  },
  "language_info": {
   "codemirror_mode": {
    "name": "ipython",
    "version": 3
   },
   "file_extension": ".py",
   "mimetype": "text/x-python",
   "name": "python",
   "nbconvert_exporter": "python",
   "pygments_lexer": "ipython3",
   "version": "3.10.1"
  },
  "orig_nbformat": 4
 },
 "nbformat": 4,
 "nbformat_minor": 2
}
